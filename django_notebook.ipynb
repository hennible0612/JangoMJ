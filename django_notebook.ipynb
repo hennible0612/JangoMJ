{
 "cells": [
  {
   "cell_type": "code",
   "execution_count": null,
   "metadata": {
    "collapsed": true
   },
   "outputs": [],
   "source": [
    "#1. 장고 실행방법\n",
    "### venvs 에서 mysite 가상환경 실행\n",
    "# activate 으로 실행\n",
    "\n",
    "#2. 서버실행\n",
    "# C:\\Users\\henni\\Desktop\\JangoMJ\\mysite> 에서\n",
    "# python manage.py runserver 으로 실행\n",
    "\n",
    "\n",
    "#3. 앱생성하기\n",
    "#django-admin startapp pybo 여기서 pybo가 앱"
   ]
  }
 ],
 "metadata": {
  "kernelspec": {
   "display_name": "Python 3",
   "language": "python",
   "name": "python3"
  },
  "language_info": {
   "codemirror_mode": {
    "name": "ipython",
    "version": 2
   },
   "file_extension": ".py",
   "mimetype": "text/x-python",
   "name": "python",
   "nbconvert_exporter": "python",
   "pygments_lexer": "ipython2",
   "version": "2.7.6"
  }
 },
 "nbformat": 4,
 "nbformat_minor": 0
}