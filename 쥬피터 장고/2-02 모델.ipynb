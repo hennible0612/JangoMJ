{
 "cells": [
  {
   "cell_type": "markdown",
   "metadata": {
    "collapsed": true,
    "pycharm": {
     "name": "#%% md\n"
    }
   },
   "source": [
    "# 2-02 모델\n",
    "### 장고 앱 migrate"
   ]
  },
  {
   "cell_type": "code",
   "execution_count": null,
   "outputs": [],
   "source": [
    "You have 18 unapplied migration(s). Your project may not work properly\n",
    "until you apply the migrations for app(s): admin, auth, contenttypes, sessions."
   ],
   "metadata": {
    "collapsed": false,
    "pycharm": {
     "name": "#%%\n"
    }
   }
  },
  {
   "cell_type": "markdown",
   "source": [
    "###### 위에러는 그냥\n",
    "###### python manage.py migrate 실행하면됨\n",
    "###### DB를 사용하는데 db가 없어서 뜨는에러"
   ],
   "metadata": {
    "collapsed": false
   }
  },
  {
   "cell_type": "markdown",
   "source": [
    "### DB 에 사용할 model 만들기\n",
    "###### pybo 에서 사용할 모델이니 pybo models 에 코드를 작성한다."
   ],
   "metadata": {
    "collapsed": false
   }
  },
  {
   "cell_type": "code",
   "execution_count": null,
   "outputs": [],
   "source": [
    "from django.db import models\n",
    "\n",
    "# Create your models here.\n",
    "class Question(models.Model):\n",
    "    subject = models.CharField(max_length=200)\n",
    "    content = models.TextField()\n",
    "    create_date = models.DateTimeField()\n",
    "\n",
    "class Answer(models.Model):\n",
    "    question = models.ForeigKey(Question, on_delete=models.CASCADE)\n",
    "    content = models.TextField()\n",
    "    create_date = models.DateTimeField()"
   ],
   "metadata": {
    "collapsed": false,
    "pycharm": {
     "name": "#%%\n"
    }
   }
  },
  {
   "cell_type": "markdown",
   "source": [
    "### 파이보앱 등록\n",
    "###### 테이블 생성을 위해 가장 먼저 해야 할 일은 pybo 앱을\n",
    "###### config/settings.py 파일의 INSTALLED_APPS 항목에 추가하는 일이다."
   ],
   "metadata": {
    "collapsed": false
   }
  },
  {
   "cell_type": "code",
   "execution_count": null,
   "outputs": [],
   "source": [
    "INSTALLED_APPS = [\n",
    "    'pybo.apps.PyboConfig',\n",
    "    'django.contrib.admin',\n",
    "    'django.contrib.auth',\n",
    "    'django.contrib.contenttypes',\n",
    "    'django.contrib.sessions',\n",
    "    'django.contrib.messages',\n",
    "    'django.contrib.staticfiles',\n",
    "]"
   ],
   "metadata": {
    "collapsed": false,
    "pycharm": {
     "name": "#%%\n"
    }
   }
  },
  {
   "cell_type": "markdown",
   "source": [
    "### makemigrations\n",
    "###### 아래의 명령어를 사용하여 migrations을 실행하여 테이블을 만들자\n",
    "##### makemigrations 명려은 모델을 생성하거나 모델에 변화가 있을 경웨 실행해야하는 명령어이다.\n",
    "##### 아래 명령어를 실행하면 pybo\\migrations\\0001_initial.py 라는 파이썬 파일이 자동으로 생성된다."
   ],
   "metadata": {
    "collapsed": false
   }
  },
  {
   "cell_type": "code",
   "execution_count": null,
   "outputs": [],
   "source": [
    "python manage.py makemigrations\n"
   ],
   "metadata": {
    "collapsed": false,
    "pycharm": {
     "name": "#%%\n"
    }
   }
  },
  {
   "cell_type": "markdown",
   "source": [
    "### sqlmigrate"
   ],
   "metadata": {
    "collapsed": false
   }
  },
  {
   "cell_type": "markdown",
   "source": [
    "###### 아래의 코드로 어떤 sql 쿼리를 실행할지 알려준다.\n",
    "###### 0001은 생성된 작업파일(예:0001_initial.py 의 일련번호를 의미한다."
   ],
   "metadata": {
    "collapsed": false,
    "pycharm": {
     "name": "#%% md\n"
    }
   }
  },
  {
   "cell_type": "code",
   "execution_count": null,
   "outputs": [],
   "source": [
    "python manage.py sqlmigrate pybo 0001\n"
   ],
   "metadata": {
    "collapsed": false,
    "pycharm": {
     "name": "#%%\n"
    }
   }
  },
  {
   "cell_type": "markdown",
   "source": [
    "### migrate\n",
    "##### migrage 명령을 수행하여 실제 테이블을 생성한다."
   ],
   "metadata": {
    "collapsed": false
   }
  },
  {
   "cell_type": "code",
   "execution_count": null,
   "outputs": [],
   "source": [
    "python manage.py migrate"
   ],
   "metadata": {
    "collapsed": false,
    "pycharm": {
     "name": "#%%\n"
    }
   }
  },
  {
   "cell_type": "markdown",
   "source": [
    "### 모델 사용하기\n",
    "###### 장고 셀로 모델 사용하기"
   ],
   "metadata": {
    "collapsed": false
   }
  },
  {
   "cell_type": "code",
   "execution_count": null,
   "outputs": [],
   "source": [
    "python manage.py shell"
   ],
   "metadata": {
    "collapsed": false,
    "pycharm": {
     "name": "#%%\n"
    }
   }
  },
  {
   "cell_type": "markdown",
   "source": [
    "Question과 Answer 모델은 장고 셸에서 다음처럼 import 하여 사용할 수 있다."
   ],
   "metadata": {
    "collapsed": false
   }
  },
  {
   "cell_type": "code",
   "execution_count": null,
   "outputs": [],
   "source": [
    "from pybo.models import Question, Answer\n",
    "q = Question(subject='pybo가 무엇인가요?', content='pybo에 대해서 알고 싶습니다.', create_date=timezone.now())\n",
    "q.save()"
   ],
   "metadata": {
    "collapsed": false,
    "pycharm": {
     "name": "#%%\n"
    }
   }
  },
  {
   "cell_type": "markdown",
   "source": [
    "###### 위 코드 그대로 Question 안에 db값을 넣는것이다.\n",
    "### Question 조회"
   ],
   "metadata": {
    "collapsed": false,
    "pycharm": {
     "name": "#%% md\n"
    }
   }
  },
  {
   "cell_type": "code",
   "execution_count": null,
   "outputs": [],
   "source": [
    ">>> Question.objects.all()\n",
    "<QuerySet [<Question: Question object (1)>, <Question: Question object (2)>]>"
   ],
   "metadata": {
    "collapsed": false,
    "pycharm": {
     "name": "#%%\n"
    }
   }
  },
  {
   "cell_type": "markdown",
   "source": [
    "###### 위 코드 실행시 Question 데이터를 조회하는 함수이다.\n"
   ],
   "metadata": {
    "collapsed": false,
    "pycharm": {
     "name": "#%% md\n"
    }
   }
  },
  {
   "cell_type": "code",
   "execution_count": null,
   "outputs": [],
   "source": [
    "    def __str__(self):\n",
    "        return self.subject\n",
    "    def __init__():\n",
    "        print('start class')\n",
    "        #%% md"
   ],
   "metadata": {
    "collapsed": false,
    "pycharm": {
     "name": "#%%\n"
    }
   }
  },
  {
   "cell_type": "markdown",
   "source": [
    "###### __str__  인스턴스(object, 객체)를 출력할 때 형식을 지정하는 함수\n",
    "###### __init__ 인스턴스(object, 객체) 생성시 자동으로 실행되는 메서드\n",
    "##### id 값을 사용하여 검색하기 이때 get을 사용 get 사용시 무조건 하나 찾음"
   ],
   "metadata": {
    "collapsed": false,
    "pycharm": {
     "name": "#%% md\n"
    }
   }
  },
  {
   "cell_type": "code",
   "execution_count": null,
   "outputs": [],
   "source": [
    "Question.objects.get(id=1)"
   ],
   "metadata": {
    "collapsed": false,
    "pycharm": {
     "name": "#%%\n"
    }
   }
  }
 ],
 "metadata": {
  "kernelspec": {
   "display_name": "Python 3",
   "language": "python",
   "name": "python3"
  },
  "language_info": {
   "codemirror_mode": {
    "name": "ipython",
    "version": 2
   },
   "file_extension": ".py",
   "mimetype": "text/x-python",
   "name": "python",
   "nbconvert_exporter": "python",
   "pygments_lexer": "ipython2",
   "version": "2.7.6"
  }
 },
 "nbformat": 4,
 "nbformat_minor": 0
}