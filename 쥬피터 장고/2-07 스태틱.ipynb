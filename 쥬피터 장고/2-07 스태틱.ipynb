{
 "cells": [
  {
   "cell_type": "markdown",
   "metadata": {
    "collapsed": true,
    "pycharm": {
     "name": "#%% md\n"
    }
   },
   "source": [
    "# 2- 07 데이터 저장\n",
    "#### 스태틱(static) 디렉터리\n",
    "###### 스타일시트는 장고의 스태틱 디렉토리에 저장해야한다. 그리고 당연히 config/settings.py에 파일을 등록해야한다."
   ]
  },
  {
   "cell_type": "code",
   "execution_count": null,
   "outputs": [],
   "source": [
    "STATICFILES_DIRS = [\n",
    "    BASE_DIR / 'static',\n",
    "]"
   ],
   "metadata": {
    "collapsed": false,
    "pycharm": {
     "name": "#%%\n"
    }
   }
  },
  {
   "cell_type": "markdown",
   "source": [
    "#### 스타일시트\n",
    "##### C:\\projects\\mysite\\static 에 css 파일을 작성해야한다."
   ],
   "metadata": {
    "collapsed": false,
    "pycharm": {
     "name": "#%% md\n"
    }
   }
  },
  {
   "cell_type": "code",
   "execution_count": null,
   "outputs": [],
   "source": [
    "textarea {\n",
    "    width:100%;\n",
    "}\n",
    "\n",
    "input[type=submit] {\n",
    "    margin-top:10px;\n",
    "}\n"
   ],
   "metadata": {
    "collapsed": false,
    "pycharm": {
     "name": "#%%\n"
    }
   }
  },
  {
   "cell_type": "markdown",
   "source": [
    "#### 템플릿에 스타일 적용\n",
    "##### question_detail.html에 적용을 해준다."
   ],
   "metadata": {
    "collapsed": false
   }
  },
  {
   "cell_type": "code",
   "execution_count": null,
   "outputs": [],
   "source": [
    "{% load static %} <!-- static 파일을 사용하기 위해서 load해야한다 -->\n",
    "<link res=\"stylesheet\" type=\"text/css\" href=\"{% static 'style.css'%}\"> <!--res=현문서와 외부리소스의 연관관계 type=외부미디어타입 -->"
   ],
   "metadata": {
    "collapsed": false,
    "pycharm": {
     "name": "#%%\n"
    }
   }
  }
 ],
 "metadata": {
  "kernelspec": {
   "display_name": "Python 3",
   "language": "python",
   "name": "python3"
  },
  "language_info": {
   "codemirror_mode": {
    "name": "ipython",
    "version": 2
   },
   "file_extension": ".py",
   "mimetype": "text/x-python",
   "name": "python",
   "nbconvert_exporter": "python",
   "pygments_lexer": "ipython2",
   "version": "2.7.6"
  }
 },
 "nbformat": 4,
 "nbformat_minor": 0
}