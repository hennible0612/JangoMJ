{
 "cells": [
  {
   "cell_type": "markdown",
   "metadata": {
    "collapsed": true,
    "pycharm": {
     "name": "#%% md\n"
    }
   },
   "source": [
    "# 2- 05 URL과 네임스페이스\n",
    "### URL 하드코딩\n",
    "#### URL 이 바껴도 내가 원하는 url을 찾아 갈수 있게 할려면 name으로 매핑해야한다."
   ]
  },
  {
   "cell_type": "code",
   "source": [
    "from django.urls import path\n",
    "\n",
    "from . import views\n",
    "\n",
    "urlpatterns = [\n",
    "    path('', views.index, name='index'),\n",
    "    path('<int:question_id>/', views.detail, name='detail'),\n",
    "]"
   ],
   "metadata": {
    "collapsed": false,
    "pycharm": {
     "name": "#%%\n"
    }
   },
   "execution_count": null,
   "outputs": []
  },
  {
   "cell_type": "markdown",
   "source": [
    "##### path에 보이다싶이 name에 별칭을 정해주었다.\n",
    "##### 그러면 이제 템플릿에 path를 정해주겠다."
   ],
   "metadata": {
    "collapsed": false,
    "pycharm": {
     "name": "#%% md\n"
    }
   }
  },
  {
   "cell_type": "code",
   "execution_count": null,
   "outputs": [],
   "source": [
    "{% if question_list %}\n",
    "    <ul>\n",
    "    {% for question in question_list %}\n",
    "        <li><a href=\"{%url 'detail' question.id %}\">{{ question.subject }}</a></li>\n",
    "    {% endfor %}\n",
    "    </ul>\n",
    "{% else %}\n",
    "    <p>질문이 없습니다.</p>\n",
    "{% endif %}"
   ],
   "metadata": {
    "collapsed": false,
    "pycharm": {
     "name": "#%%\n"
    }
   }
  },
  {
   "cell_type": "markdown",
   "source": [
    "##### 그후 템플릿에서도 detail이라는 별칭으로 부른다.\n",
    "\n",
    "#### 하지만 여기서도 또 문제가 발생하는데 다른 프로그램에서 똑같은 별칭을 사용하면 에러가 뜬다."
   ],
   "metadata": {
    "collapsed": false,
    "pycharm": {
     "name": "#%% md\n"
    }
   }
  },
  {
   "cell_type": "code",
   "execution_count": null,
   "outputs": [],
   "source": [
    "from django.urls import path\n",
    "\n",
    "from . import views\n",
    "\n",
    "app_name = 'pybo'\n",
    "\n",
    "urlpatterns = [\n",
    "    path('', views.index, name='index'),\n",
    "    path('<int:question_id>/', views.detail, name='detail'),\n",
    "]"
   ],
   "metadata": {
    "collapsed": false,
    "pycharm": {
     "name": "#%%\n"
    }
   }
  },
  {
   "cell_type": "markdown",
   "source": [
    "##### 위 처럼 pybo의 urls의 app_name을 pybo로 설정하고 pybo에 있는 index를 부르도록 하면된다."
   ],
   "metadata": {
    "collapsed": false,
    "pycharm": {
     "name": "#%% md\n"
    }
   }
  },
  {
   "cell_type": "code",
   "execution_count": null,
   "outputs": [],
   "source": [
    "{% if question_list %}\n",
    "    <ul>\n",
    "    {% for question in question_list %}\n",
    "        <li><a href=\"{%url 'pybo:detail' question.id %}\">{{ question.subject }}</a></li>\n",
    "    {% endfor %}\n",
    "    </ul>\n",
    "{% else %}\n",
    "    <p>질문이 없습니다.</p>\n",
    "{% endif %}"
   ],
   "metadata": {
    "collapsed": false,
    "pycharm": {
     "name": "#%%\n"
    }
   }
  },
  {
   "cell_type": "markdown",
   "source": [
    "##### url 매핑도 해주고"
   ],
   "metadata": {
    "collapsed": false,
    "pycharm": {
     "name": "#%% md\n"
    }
   }
  },
  {
   "cell_type": "code",
   "execution_count": null,
   "outputs": [],
   "source": [
    "from django.urls import path\n",
    "\n",
    "from . import views\n",
    "\n",
    "app_name = 'pybo'\n",
    "\n",
    "urlpatterns = [\n",
    "    path('', views.index, name='index'),\n",
    "    path('<int:question_id>/', views.detail, name='detail'),\n",
    "    path('answer/create/<int:question_id>/', views.answer_create, name='answer_create'),\n",
    "]"
   ],
   "metadata": {
    "collapsed": false,
    "pycharm": {
     "name": "#%%\n"
    }
   }
  },
  {
   "cell_type": "code",
   "execution_count": null,
   "outputs": [],
   "source": [
    "##### 뷰함수를 만들어준다."
   ],
   "metadata": {
    "collapsed": false,
    "pycharm": {
     "name": "#%%\n"
    }
   }
  },
  {
   "cell_type": "code",
   "source": [
    "from django.shortcuts import render, get_object_or_404, redirect\n",
    "from django.utils import timezone\n",
    "from .models import Question\n",
    "\n",
    "(... 생략 ...)\n",
    "\n",
    "def answer_create(request, question_id):\n",
    "    \"\"\"\n",
    "    pybo 답변등록\n",
    "    \"\"\"\n",
    "    question = get_object_or_404(Question, pk=question_id)\n",
    "    question.answer_set.create(content=request.POST.get('content'), create_date=timezone.now())\n",
    "    return redirect('pybo:detail', question_id=question.id)"
   ],
   "metadata": {
    "collapsed": false,
    "pycharm": {
     "name": "#%%\n"
    }
   },
   "execution_count": null,
   "outputs": []
  }
 ],
 "metadata": {
  "kernelspec": {
   "display_name": "Python 3",
   "language": "python",
   "name": "python3"
  },
  "language_info": {
   "codemirror_mode": {
    "name": "ipython",
    "version": 2
   },
   "file_extension": ".py",
   "mimetype": "text/x-python",
   "name": "python",
   "nbconvert_exporter": "python",
   "pygments_lexer": "ipython2",
   "version": "2.7.6"
  }
 },
 "nbformat": 4,
 "nbformat_minor": 0
}