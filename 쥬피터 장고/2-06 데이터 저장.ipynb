{
 "cells": [
  {
   "cell_type": "markdown",
   "metadata": {
    "collapsed": true,
    "pycharm": {
     "name": "#%% md\n"
    }
   },
   "source": [
    "# 2- 06 데이터 저장\n",
    "\n",
    "### 답변등록 폼\n",
    "##### question_detail.html에 아래 답변 등록 폼을 만들어준다."
   ]
  },
  {
   "cell_type": "code",
   "execution_count": null,
   "outputs": [],
   "source": [
    "<h1>{{ question.subject }}</h1>\n",
    "\n",
    "<div>\n",
    "    {{ question.content }}\n",
    "</div>\n",
    "\n",
    "<form action=\"{% url 'pybo:answer_create' question.id %}\" method=\"post\">\n",
    "    {% crsf_token %}\n",
    "    <textarea name=\"contend\" id=\"content\" rows=\"15\"></textarea>\n",
    "    <input type=\"submit\" value=\"답변등록\">\n",
    "</form>"
   ],
   "metadata": {
    "collapsed": false,
    "pycharm": {
     "name": "#%%\n"
    }
   }
  },
  {
   "cell_type": "markdown",
   "source": [
    "###### {% csrf_token %} 은 실제 웹에서 작성한 데이터인지를 판단해 주는 가늠자 역할을 한다.\n",
    "###### 그리고 pybo:answer_create은 answer를 저장하는 함수이다. questin id또한 보내줬다.\n",
    "\n",
    "##### answer_create url을 등록했으니 url도 만들어줘야한다."
   ],
   "metadata": {
    "collapsed": false,
    "pycharm": {
     "name": "#%% md\n"
    }
   }
  },
  {
   "cell_type": "code",
   "execution_count": null,
   "outputs": [],
   "source": [
    "path('answer/create/<int:question_id>/', views.answer_create, name=\"answer_create\")"
   ],
   "metadata": {
    "collapsed": false,
    "pycharm": {
     "name": "#%%\n"
    }
   }
  },
  {
   "cell_type": "markdown",
   "source": [
    "##### pybo urls에 등록을 해주자 그리고 url은 views.answer을 호출 한다."
   ],
   "metadata": {
    "collapsed": false
   }
  },
  {
   "cell_type": "code",
   "execution_count": null,
   "outputs": [],
   "source": [
    "from django.shortcuts import render, get_object_or_404, redirect\n",
    "from django.utils import timezone\n",
    "from .models import Question\n",
    "\n",
    "(... 생략 ...)\n",
    "\n",
    "def answer_create(request, question_id):\n",
    "    \"\"\"\n",
    "    pybo 답변등록\n",
    "    \"\"\"\n",
    "    question = get_object_or_404(Question, pk=question_id)\n",
    "    question.answer_set.create(content=request.POST.get('content'), create_date=timezone.now())\n",
    "    return redirect('pybo:detail', question_id=question.id)"
   ],
   "metadata": {
    "collapsed": false,
    "pycharm": {
     "name": "#%%\n"
    }
   }
  },
  {
   "cell_type": "markdown",
   "source": [
    "##### Question 객체를 가지고 오고 거기서 question_id에 맞는 값을 가지고온다.\n",
    "##### 그리고 request.POST.get('content')로 데이터 값중 content값을 가지고 온다.\n",
    "##### 그리고 redirect으로 화면을 다시 표시한다.\n",
    "\n",
    "### 답변조회\n",
    "#### 등록된 답변을 질문 상세 화면에 표시하려면 다음과 같이 상세 템플릿을 수정해야한다."
   ],
   "metadata": {
    "collapsed": false,
    "pycharm": {
     "name": "#%% md\n"
    }
   }
  },
  {
   "cell_type": "code",
   "execution_count": null,
   "outputs": [],
   "source": [
    "<h1>{{ question.subject }}</h1>\n",
    "\n",
    "<div>\n",
    "    {{ question.content }}\n",
    "</div>\n",
    "\n",
    "<h5>{{ question.answer_set.count }}개의 답변이 있습니다.</h5>\n",
    "<div>\n",
    "    <ul>\n",
    "    {% for answer in question.answer_set.all %}\n",
    "        <li>{{ answer.content }}</li>\n",
    "    {% endfor %}\n",
    "    </ul>\n",
    "</div>\n",
    "\n",
    "<form action=\"{% url 'pybo:answer_create' question.id %}\" method=\"post\">\n",
    "{% csrf_token %}\n",
    "<textarea name=\"content\" id=\"content\" rows=\"15\"></textarea>\n",
    "<input type=\"submit\" value=\"답변등록\">\n",
    "</form>\n"
   ],
   "metadata": {
    "collapsed": false,
    "pycharm": {
     "name": "#%%\n"
    }
   }
  }
 ],
 "metadata": {
  "kernelspec": {
   "display_name": "Python 3",
   "language": "python",
   "name": "python3"
  },
  "language_info": {
   "codemirror_mode": {
    "name": "ipython",
    "version": 2
   },
   "file_extension": ".py",
   "mimetype": "text/x-python",
   "name": "python",
   "nbconvert_exporter": "python",
   "pygments_lexer": "ipython2",
   "version": "2.7.6"
  }
 },
 "nbformat": 4,
 "nbformat_minor": 0
}