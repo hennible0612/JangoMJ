{
 "cells": [
  {
   "cell_type": "markdown",
   "metadata": {
    "collapsed": true,
    "pycharm": {
     "name": "#%% md\n"
    }
   },
   "source": [
    "# 2-03 장고 관리자\n",
    "### 슈퍼 유저\n",
    "##### 모델을 슈퍼 유저에 등록하기"
   ]
  },
  {
   "cell_type": "code",
   "source": [
    "C:\\projects\\mysite\\pybo\\admin.py #에\n",
    "\n",
    "from django.contrib import admin\n",
    "from .models import Question #.models에서 Question 가져와서\n",
    "admin.site.register(Question) #admin에 등록"
   ],
   "metadata": {
    "collapsed": false,
    "pycharm": {
     "name": "#%%\n"
    }
   },
   "execution_count": null,
   "outputs": []
  },
  {
   "cell_type": "markdown",
   "source": [
    "###### 위처럼 하면 admin에 Question 모델이 등록된다."
   ],
   "metadata": {
    "collapsed": false,
    "pycharm": {
     "name": "#%% md\n"
    }
   }
  },
  {
   "cell_type": "code",
   "execution_count": null,
   "outputs": [],
   "source": [
    "http://localhost:8000/admin/"
   ],
   "metadata": {
    "collapsed": false,
    "pycharm": {
     "name": "#%%\n"
    }
   }
  },
  {
   "cell_type": "markdown",
   "source": [
    "위 에 들어가면 PYBO 밑에 Question이 생겼을 것이다.\n",
    "\n",
    "###### 이제는 내가 워하는 모델을 검색할 수 있는 기능을 추가 해보자"
   ],
   "metadata": {
    "collapsed": false,
    "pycharm": {
     "name": "#%% md\n"
    }
   }
  },
  {
   "cell_type": "code",
   "execution_count": null,
   "outputs": [],
   "source": [
    "from django.contrib import admin\n",
    "from .models import Question\n",
    "\n",
    "\n",
    "class QuestionAdmin(admin.ModelAdmin):\n",
    "    search_fields = ['subject']\n",
    "\n",
    "\n",
    "admin.site.register(Question, QuestionAdmin)"
   ],
   "metadata": {
    "collapsed": false,
    "pycharm": {
     "name": "#%%\n"
    }
   }
  },
  {
   "cell_type": "markdown",
   "source": [
    "##### 검색 기능을 하는 QuestionAdmin을 admin.site.register에 추가 해줬다."
   ],
   "metadata": {
    "collapsed": false,
    "pycharm": {
     "name": "#%% md\n"
    }
   }
  }
 ],
 "metadata": {
  "kernelspec": {
   "display_name": "Python 3",
   "language": "python",
   "name": "python3"
  },
  "language_info": {
   "codemirror_mode": {
    "name": "ipython",
    "version": 2
   },
   "file_extension": ".py",
   "mimetype": "text/x-python",
   "name": "python",
   "nbconvert_exporter": "python",
   "pygments_lexer": "ipython2",
   "version": "2.7.6"
  }
 },
 "nbformat": 4,
 "nbformat_minor": 0
}