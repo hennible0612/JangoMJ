{
 "cells": [
  {
   "cell_type": "markdown",
   "metadata": {
    "collapsed": true,
    "pycharm": {
     "name": "#%% md\n"
    }
   },
   "source": [
    "# 2-04 조회와 템플릿\n",
    "### 질문 목록\n",
    "##### 등록한 질문들을 출력하도록하기"
   ]
  },
  {
   "cell_type": "code",
   "execution_count": null,
   "outputs": [],
   "source": [
    "# pybo\\views.py\n",
    "from django.shortcuts import render\n",
    "from .models import Question\n",
    "\n",
    "\n",
    "def index(request):\n",
    "    \"\"\"\n",
    "    pybo 목록 출력\n",
    "    \"\"\"\n",
    "    question_list = Question.objects.order_by('-create_date')\n",
    "    context = {'question_list': question_list}\n",
    "    return render(request, 'pybo/question_list.html', context)"
   ],
   "metadata": {
    "collapsed": false,
    "pycharm": {
     "name": "#%%\n"
    }
   }
  },
  {
   "cell_type": "markdown",
   "source": [
    "###### Question안에 있는 objects를 날짜순으로 정렬\n",
    "##### 여기서 render 함수는 파이썬 데이터를 템플릿에 적용하여 HTML로 반환하는 함수이다.#####\n",
    "##### 즉 여기서는 question_list 데이터를 pybo/question_list.html 파일에 적용하여 html을 리턴한다.\n",
    "##### 템플릿 파일은 html과 비슷하지만 장고에서 사용하는 태그가 사용가능하다."
   ],
   "metadata": {
    "collapsed": false,
    "pycharm": {
     "name": "#%% md\n"
    }
   }
  },
  {
   "cell_type": "markdown",
   "source": [
    "### 질문 목록\n",
    "##### 템플릿 디렉토리\n",
    "###### 템플릿을 사용하기 위해서는 템플릿 폴더를 만들어야한다.\n",
    "###### 그러므로 프로그램에게 템플릿 폴더가 어디있는지 가르쳐 줘야하기 때문에 config\\settings.py에 알려준다."
   ],
   "metadata": {
    "collapsed": false,
    "pycharm": {
     "name": "#%% md\n"
    }
   }
  },
  {
   "cell_type": "code",
   "execution_count": null,
   "outputs": [],
   "source": [
    "...\n",
    "TEMPLATES = [\n",
    "    {\n",
    "        'BACKEND': 'django.template.backends.django.DjangoTemplates',\n",
    "        'DIRS': [BASE_DIR / 'templates'],\n",
    "        'APP_DIRS': True,\n",
    "        'OPTIONS': {\n",
    "            ..."
   ],
   "metadata": {
    "collapsed": false,
    "pycharm": {
     "name": "#%%\n"
    }
   }
  },
  {
   "cell_type": "markdown",
   "source": [
    "###### 그후에 mysite 디렉토리 안에 templates폴더를 생성하고 pybo 디렉터리도 만든 다음에 pybo가 사용할 question_list.html을 넣어준다\n",
    "###### html 파일이다"
   ],
   "metadata": {
    "collapsed": false
   }
  },
  {
   "cell_type": "code",
   "execution_count": null,
   "outputs": [],
   "source": [
    "{% if question_list %}\n",
    "    <ul>\n",
    "    {% for question in question_list %}\n",
    "        <li><a href=\"/pybo/{{ question.id }}/\">{{ question.subject }}</a></li>\n",
    "    {% endfor %}\n",
    "    </ul>\n",
    "{% else %}\n",
    "    <p>질문이 없습니다.</p>\n",
    "{% endif %}"
   ],
   "metadata": {
    "collapsed": false,
    "pycharm": {
     "name": "#%%\n"
    }
   }
  },
  {
   "cell_type": "markdown",
   "source": [
    "##### if question_list는 render함수로 전달받을 질문 목록 데이터이다.\n",
    "##### for는 알다 싶이 question_list안에 있는 question이다.\n",
    "##### question.id question 객체의 id번호\n",
    "##### question.subject는 객체의 제목을 출력\n",
    "##### 후에 http://localhost:8000/pybo/ 로가면 질문이 다 나와있다."
   ],
   "metadata": {
    "collapsed": false,
    "pycharm": {
     "name": "#%% md\n"
    }
   }
  },
  {
   "cell_type": "markdown",
   "source": [
    "### 질문 상세\n",
    "##### 등록한 질문들을 출력하도록하기\n",
    "##### 질문을 클릭하면 새로운 url로 이동하니 pybo에 새로운 path를 추가해줘야한다."
   ],
   "metadata": {
    "collapsed": false,
    "pycharm": {
     "name": "#%% md\n"
    }
   }
  },
  {
   "cell_type": "code",
   "execution_count": null,
   "outputs": [],
   "source": [
    "# pybo\\urls.py\n",
    "from django.urls import path\n",
    "\n",
    "from . import views\n",
    "\n",
    "urlpatterns = [\n",
    "    path('', views.index),\n",
    "    path('<int:question_id>/', views.detail),\n",
    "]"
   ],
   "metadata": {
    "collapsed": false,
    "pycharm": {
     "name": "#%%\n"
    }
   }
  },
  {
   "cell_type": "markdown",
   "source": [
    "##### 위에 보이다 싶이 views에 있는 detail을 실행을 한다. 즉, view에 detail함수를 추가해줘야한다."
   ],
   "metadata": {
    "collapsed": false,
    "pycharm": {
     "name": "#%% md\n"
    }
   }
  },
  {
   "cell_type": "code",
   "execution_count": null,
   "outputs": [],
   "source": [
    "def detail(request, question_id):\n",
    "    \"\"\"\n",
    "    pybo 상세내용 출력\n",
    "    \"\"\"\n",
    "    question = Question.objects.get(id=question_id)\n",
    "    context = {'question':question}\n",
    "    return render(request, 'pybo/question_detail.html', context)"
   ],
   "metadata": {
    "collapsed": false,
    "pycharm": {
     "name": "#%%\n"
    }
   }
  },
  {
   "cell_type": "markdown",
   "source": [
    "##### 이제는 어떻게 보여지는 detail로 정하고 return 값을 표현 해줄 html을 만들어야한다.\n",
    "##### pybo/question_detail.html에 html을 추가해준다."
   ],
   "metadata": {
    "collapsed": false,
    "pycharm": {
     "name": "#%% md\n"
    }
   }
  },
  {
   "cell_type": "code",
   "execution_count": null,
   "outputs": [],
   "source": [
    "<h1>{{ question.subject }}</h1>\n",
    "\n",
    "<div>\n",
    "    {{ question.content }}\n",
    "</div>"
   ],
   "metadata": {
    "collapsed": false,
    "pycharm": {
     "name": "#%%\n"
    }
   }
  },
  {
   "cell_type": "markdown",
   "source": [
    "###  오류  페이지\n",
    "###### 없는 페이지 호출시 에러페이지를 만들것이다. question 변수를 바꿔주기만 하면된다."
   ],
   "metadata": {
    "collapsed": false,
    "pycharm": {
     "name": "#%% md\n"
    }
   }
  },
  {
   "cell_type": "code",
   "execution_count": null,
   "outputs": [],
   "source": [
    "from django.shortcuts import render, get_object_or_404\n",
    "def detail(request, question_id):\n",
    "    \"\"\"\n",
    "    pybo 상세내용 출력\n",
    "    \"\"\"\n",
    "    question = get_object_or_404(Question, pk=question_id)\n",
    "    context = {'question':question}\n",
    "    return render(request, 'pybo/question_detail.html', context)"
   ],
   "metadata": {
    "collapsed": false,
    "pycharm": {
     "name": "#%%\n"
    }
   }
  }
 ],
 "metadata": {
  "kernelspec": {
   "display_name": "Python 3",
   "language": "python",
   "name": "python3"
  },
  "language_info": {
   "codemirror_mode": {
    "name": "ipython",
    "version": 2
   },
   "file_extension": ".py",
   "mimetype": "text/x-python",
   "name": "python",
   "nbconvert_exporter": "python",
   "pygments_lexer": "ipython2",
   "version": "2.7.6"
  }
 },
 "nbformat": 4,
 "nbformat_minor": 0
}