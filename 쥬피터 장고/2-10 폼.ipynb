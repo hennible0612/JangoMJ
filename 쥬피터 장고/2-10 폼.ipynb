{
 "cells": [
  {
   "cell_type": "markdown",
   "metadata": {
    "collapsed": true,
    "pycharm": {
     "name": "#%% md\n"
    }
   },
   "source": [
    "# 2-10 폼\n",
    "### 질문등록\n",
    "##### pybo\\question_list.html에 버튼 등록"
   ]
  },
  {
   "cell_type": "code",
   "execution_count": null,
   "outputs": [],
   "source": [
    " <a href=\"{% url 'pybo:question_create' %}\" class=\"btn btn-primary\">질문 등록하기</a>"
   ],
   "metadata": {
    "collapsed": false,
    "pycharm": {
     "name": "#%%\n"
    }
   }
  },
  {
   "cell_type": "markdown",
   "source": [
    "### URL 매핑"
   ],
   "metadata": {
    "collapsed": false,
    "pycharm": {
     "name": "#%% md\n"
    }
   }
  },
  {
   "cell_type": "markdown",
   "source": [
    "### 폼\n",
    "##### pybo\\form.py 만든후 작성"
   ],
   "metadata": {
    "collapsed": false
   }
  },
  {
   "cell_type": "code",
   "execution_count": null,
   "outputs": [],
   "source": [
    "from django import forms\n",
    "from pybo.models import Question\n",
    "\n",
    "class QuestionForm(forms.ModelForm): #QuestionForm 은 forms.odelForm을 상속했다.\n",
    "    \"\"\"\n",
    "    장고는 일반 폼 forms.Form 과 모델폼 forms.ModelForm이 있는데 모델 폼은 모델과 연결된 폼으로 폼을 저장함녀 연결된 모델의 데이터를 저장할수 있는 폼이댜.\n",
    "    \"\"\"\n",
    "    class Meta: #모델폼은 이너 클래스인 Meta 클래스가 반드시 필요하다. Meta 클래스에는 사용할 모델과 모데르이 속성을 적어야한다.\n",
    "        \"\"\"\n",
    "        즉,QuestionForm은 Question 모델과 연결되 폼이고 속성으로 Question모델의 subject와 content를 사용한다고 정의한 것이다.\n",
    "        \"\"\"\n",
    "        model = Question # 사용할 모델\n",
    "        fields = ['subject', 'content'] # QuestionForm에서 사용할 Question 모델의 속성"
   ],
   "metadata": {
    "collapsed": false,
    "pycharm": {
     "name": "#%%\n"
    }
   }
  },
  {
   "cell_type": "markdown",
   "source": [
    "### 뷰 함수\n",
    "##### views.question_create 함수작성"
   ],
   "metadata": {
    "collapsed": false
   }
  },
  {
   "cell_type": "code",
   "execution_count": null,
   "outputs": [],
   "source": [
    "def question_create(request):\n",
    "    \"\"\"\n",
    "    pybo 질문등록\n",
    "    \"\"\"\n",
    "    form = QuestionForm() # forms에 있는 QuestionForm()\n",
    "    return render(request, 'pybo/question_form.html',{'form':form}) #"
   ],
   "metadata": {
    "collapsed": false,
    "pycharm": {
     "name": "#%%\n"
    }
   }
  },
  {
   "cell_type": "markdown",
   "source": [
    "### 템플릿 html 작성"
   ],
   "metadata": {
    "collapsed": false
   }
  },
  {
   "cell_type": "code",
   "execution_count": null,
   "outputs": [],
   "source": [
    "{% extends 'base.html' %}\n",
    "\n",
    "{% block content %}\n",
    "<div class=\"container\">\n",
    "    <h5 class=\"my-3 border-bottom pb-2\">질문등록</h5>\n",
    "    <form method=\"post\" class=\"post-form my-3\"><!-- action 지정하지 않을시 guswo vpdlwldmlㅕ기dl디폴트 action으로 설정된다.-->\n",
    "        {% csrf_token %}\n",
    "        {{ form.as_p }} <!-- question_create 함수에서 전달된 QuestionForm의 객체이다. -->\n",
    "        <button type=\"submit\" class=\"btn btn-primary\">저장하기</button> <!-- -->\n",
    "    </form>\n",
    "</div>\n",
    "{% endblock %}\n"
   ],
   "metadata": {
    "collapsed": false,
    "pycharm": {
     "name": "#%%\n"
    }
   }
  },
  {
   "cell_type": "markdown",
   "source": [
    "### Get과 Post\n",
    "##### 이제는 질문등록하기를 하면 저장하는 코드를 만들꺼다"
   ],
   "metadata": {
    "collapsed": false
   }
  }
 ],
 "metadata": {
  "kernelspec": {
   "display_name": "Python 3",
   "language": "python",
   "name": "python3"
  },
  "language_info": {
   "codemirror_mode": {
    "name": "ipython",
    "version": 2
   },
   "file_extension": ".py",
   "mimetype": "text/x-python",
   "name": "python",
   "nbconvert_exporter": "python",
   "pygments_lexer": "ipython2",
   "version": "2.7.6"
  }
 },
 "nbformat": 4,
 "nbformat_minor": 0
}